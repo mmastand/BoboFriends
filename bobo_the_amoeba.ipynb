{
 "cells": [
  {
   "cell_type": "code",
   "execution_count": 31,
   "metadata": {
    "collapsed": true
   },
   "outputs": [],
   "source": [
    "import numpy as np\n",
    "import matplotlib.pyplot as plt\n",
    "%matplotlib inline"
   ]
  },
  {
   "cell_type": "code",
   "execution_count": 24,
   "metadata": {
    "collapsed": false
   },
   "outputs": [],
   "source": [
    "def gen1000():\n",
    "    map = {0:-1, 1:0, 2:1, 3:1}\n",
    "    ameb = 1\n",
    "    for i in range(100):\n",
    "        r = np.random.randint(0,4)\n",
    "        ameb += map[r] \n",
    "        if ameb == 0:\n",
    "            break\n",
    "    return ameb\n"
   ]
  },
  {
   "cell_type": "code",
   "execution_count": 35,
   "metadata": {
    "collapsed": false
   },
   "outputs": [
    {
     "name": "stdout",
     "output_type": "stream",
     "text": [
      "0.49895\n"
     ]
    }
   ],
   "source": [
    "numDeaths = 0.\n",
    "n = 100000\n",
    "lives = []\n",
    "for i in range(n):\n",
    "    a = gen1000()\n",
    "    if a == 0:\n",
    "        numDeaths += 1\n",
    "    lives.append(a)\n",
    "print numDeaths/n"
   ]
  },
  {
   "cell_type": "code",
   "execution_count": 34,
   "metadata": {
    "collapsed": false
   },
   "outputs": [
    {
     "name": "stdout",
     "output_type": "stream",
     "text": [
      "[0, 33, 26, 0, 0, 0, 36, 30, 20, 0]\n"
     ]
    }
   ],
   "source": [
    "print lives[:10]"
   ]
  },
  {
   "cell_type": "code",
   "execution_count": 32,
   "metadata": {
    "collapsed": false
   },
   "outputs": [
    {
     "data": {
      "text/plain": [
       "(array([  5.02390000e+04,   9.73000000e+02,   4.46900000e+03,\n",
       "          1.08940000e+04,   1.45950000e+04,   1.17780000e+04,\n",
       "          5.39600000e+03,   1.43000000e+03,   2.14000000e+02,\n",
       "          1.20000000e+01]),\n",
       " array([  0. ,   6.1,  12.2,  18.3,  24.4,  30.5,  36.6,  42.7,  48.8,\n",
       "         54.9,  61. ]),\n",
       " <a list of 10 Patch objects>)"
      ]
     },
     "execution_count": 32,
     "metadata": {},
     "output_type": "execute_result"
    },
    {
     "data": {
      "image/png": "[encoded data removed]",
      "text/plain": [
       "<matplotlib.figure.Figure at 0x108e38b90>"
      ]
     },
     "metadata": {},
     "output_type": "display_data"
    }
   ],
   "source": [
    "plt.hist(lives)"
   ]
  },
  {
   "cell_type": "code",
   "execution_count": null,
   "metadata": {
    "collapsed": true
   },
   "outputs": [],
   "source": []
  }
 ],
 "metadata": {
  "kernelspec": {
   "display_name": "Python 2",
   "language": "python",
   "name": "python2"
  },
  "language_info": {
   "codemirror_mode": {
    "name": "ipython",
    "version": 2
   },
   "file_extension": ".py",
   "mimetype": "text/x-python",
   "name": "python",
   "nbconvert_exporter": "python",
   "pygments_lexer": "ipython2",
   "version": "2.7.11"
  }
 },
 "nbformat": 4,
 "nbformat_minor": 0
}
